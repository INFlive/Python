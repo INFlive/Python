{
  "nbformat": 4,
  "nbformat_minor": 0,
  "metadata": {
    "colab": {
      "name": "Chap3.ipynb",
      "provenance": [],
      "collapsed_sections": [],
      "authorship_tag": "ABX9TyPOVnUPPjvNWnJ9c1rxqHKN",
      "include_colab_link": true
    },
    "kernelspec": {
      "name": "python3",
      "display_name": "Python 3"
    },
    "language_info": {
      "name": "python"
    }
  },
  "cells": [
    {
      "cell_type": "markdown",
      "metadata": {
        "id": "view-in-github",
        "colab_type": "text"
      },
      "source": [
        "<a href=\"https://colab.research.google.com/github/INFlive/Python/blob/main/Chap3.ipynb\" target=\"_parent\"><img src=\"https://colab.research.google.com/assets/colab-badge.svg\" alt=\"Open In Colab\"/></a>"
      ]
    },
    {
      "cell_type": "code",
      "execution_count": 1,
      "metadata": {
        "colab": {
          "base_uri": "https://localhost:8080/"
        },
        "id": "WA3ldkRVrUBX",
        "outputId": "6aeab98b-6e61-4b35-ee95-b10c96214a8a"
      },
      "outputs": [
        {
          "output_type": "stream",
          "name": "stdout",
          "text": [
            "3600\n"
          ]
        }
      ],
      "source": [
        "expenses = [1138, 101, 12, 300, 2049]\n",
        "print(sum(expenses))"
      ]
    },
    {
      "cell_type": "code",
      "source": [
        "expenses = [1138, 101, 12, 300, 2049]\n",
        "print(expenses[0]) #索引從0開始\n",
        "print(expenses[1])\n",
        "print(expenses[-1]) #倒數第一個\n",
        "print(expenses[-2])"
      ],
      "metadata": {
        "colab": {
          "base_uri": "https://localhost:8080/"
        },
        "id": "gnaABi_WrZKH",
        "outputId": "e32ac4f1-bdab-47bf-e275-12e89b7d3439"
      },
      "execution_count": 2,
      "outputs": [
        {
          "output_type": "stream",
          "name": "stdout",
          "text": [
            "1138\n",
            "101\n",
            "2049\n",
            "300\n"
          ]
        }
      ]
    },
    {
      "cell_type": "code",
      "source": [
        "my_list0 = [] #空串列\n",
        "my_list1 = list() \n",
        "my_list2 = ['python', 'javascript', 'C#']\n",
        "print(my_list2[0])"
      ],
      "metadata": {
        "colab": {
          "base_uri": "https://localhost:8080/"
        },
        "id": "lO8Jrq38rZr2",
        "outputId": "0187b4a8-58df-49bc-cda0-33ceaad4fdf4"
      },
      "execution_count": 3,
      "outputs": [
        {
          "output_type": "stream",
          "name": "stdout",
          "text": [
            "python\n"
          ]
        }
      ]
    },
    {
      "cell_type": "code",
      "source": [
        "my_list2 = ['python', 'javascript', 'C#']\n",
        "print(len(my_list2))\n",
        "print(len(my_list2[0]))"
      ],
      "metadata": {
        "colab": {
          "base_uri": "https://localhost:8080/"
        },
        "id": "utUrK6k4rbau",
        "outputId": "d29fe34c-a19a-4aa1-e02f-5aa816ff481d"
      },
      "execution_count": 4,
      "outputs": [
        {
          "output_type": "stream",
          "name": "stdout",
          "text": [
            "3\n",
            "6\n"
          ]
        }
      ]
    },
    {
      "cell_type": "code",
      "source": [
        "my_list2 = ['python', 'javascript', 'C#']\n",
        "my_list2.append('java')\n",
        "print(my_list2)"
      ],
      "metadata": {
        "colab": {
          "base_uri": "https://localhost:8080/"
        },
        "id": "5sbiDbBPrdfm",
        "outputId": "c262ebb5-be7a-4bdf-951f-20496b3f17ec"
      },
      "execution_count": 5,
      "outputs": [
        {
          "output_type": "stream",
          "name": "stdout",
          "text": [
            "['python', 'javascript', 'C#', 'java']\n"
          ]
        }
      ]
    },
    {
      "cell_type": "code",
      "source": [
        "my_list2 = ['python', 'javascript', 'C#']\n",
        "my_list2.insert(1,'java')\n",
        "print(my_list2)"
      ],
      "metadata": {
        "colab": {
          "base_uri": "https://localhost:8080/"
        },
        "id": "9_Bv366XrfpW",
        "outputId": "b5f0be1b-b662-4b3e-ce9c-7f54c67c0ce9"
      },
      "execution_count": 6,
      "outputs": [
        {
          "output_type": "stream",
          "name": "stdout",
          "text": [
            "['python', 'java', 'javascript', 'C#']\n"
          ]
        }
      ]
    },
    {
      "cell_type": "code",
      "source": [
        "my_list2 = ['python', 'javascript', 'C#']\n",
        "my_list2.remove('python') #移除指定元素\n",
        "print(my_list2)\n",
        "del my_list2[-1] #刪除指定位置的元素\n",
        "print(my_list2)\n",
        "my_list2.clear() #清除全部\n",
        "print(my_list2)"
      ],
      "metadata": {
        "colab": {
          "base_uri": "https://localhost:8080/"
        },
        "id": "iiny6lRzrhj2",
        "outputId": "25b04d0f-86fd-4b04-e56b-00b9062df003"
      },
      "execution_count": 7,
      "outputs": [
        {
          "output_type": "stream",
          "name": "stdout",
          "text": [
            "['javascript', 'C#']\n",
            "['javascript']\n",
            "[]\n"
          ]
        }
      ]
    },
    {
      "cell_type": "code",
      "source": [
        "a=[1,2]\n",
        "print(a*5)"
      ],
      "metadata": {
        "colab": {
          "base_uri": "https://localhost:8080/"
        },
        "id": "a76ZgENbrjm-",
        "outputId": "d1ddf6a3-ef5b-4316-c2d5-2d652c7d5dbd"
      },
      "execution_count": 8,
      "outputs": [
        {
          "output_type": "stream",
          "name": "stdout",
          "text": [
            "[1, 2, 1, 2, 1, 2, 1, 2, 1, 2]\n"
          ]
        }
      ]
    },
    {
      "cell_type": "code",
      "source": [
        "a=[1,2,3,4,5,6,7,8,9]\n",
        "b=a[0:3] #範圍取值，0,1,2不包含3\n",
        "print(b)\n",
        "c=a[0:9:2] #間隔2取值\n",
        "print(c)\n",
        "d = a[0: ]\n",
        "print(d)\n",
        "e = a[ :9]\n",
        "print(e)\n",
        "f = a[:] #取全部值\n",
        "print(f)"
      ],
      "metadata": {
        "colab": {
          "base_uri": "https://localhost:8080/"
        },
        "id": "ORdOclXfrl3H",
        "outputId": "bf802558-0e91-42fd-eda7-5bf7ab279674"
      },
      "execution_count": 9,
      "outputs": [
        {
          "output_type": "stream",
          "name": "stdout",
          "text": [
            "[1, 2, 3]\n",
            "[1, 3, 5, 7, 9]\n",
            "[1, 2, 3, 4, 5, 6, 7, 8, 9]\n",
            "[1, 2, 3, 4, 5, 6, 7, 8, 9]\n",
            "[1, 2, 3, 4, 5, 6, 7, 8, 9]\n"
          ]
        }
      ]
    },
    {
      "cell_type": "code",
      "source": [
        "a=[1,2,3,4,5,6,7,8,9]\n",
        "del a[7:9] #刪除某範圍值, 7, 8\n",
        "print(a)\n",
        "print(min(a)) #最小值\n",
        "print(max(a)) #最大值\n",
        "print(a.index(1)) #找出1所在的第一個索引值\n",
        "b=[1,0,0,1,1,1]\n",
        "print(b.count(1)) #1出現的次數\n",
        "a.reverse() #串列反轉\n",
        "print(a)\n",
        "a.sort() #串列由小到大排序,a的值會被改變\n",
        "print(a)"
      ],
      "metadata": {
        "colab": {
          "base_uri": "https://localhost:8080/"
        },
        "id": "lcysrCs0rn4H",
        "outputId": "4c7ffe00-83e9-40e4-d3a9-39867778ea0a"
      },
      "execution_count": 10,
      "outputs": [
        {
          "output_type": "stream",
          "name": "stdout",
          "text": [
            "[1, 2, 3, 4, 5, 6, 7]\n",
            "1\n",
            "7\n",
            "0\n",
            "4\n",
            "[7, 6, 5, 4, 3, 2, 1]\n",
            "[1, 2, 3, 4, 5, 6, 7]\n"
          ]
        }
      ]
    },
    {
      "cell_type": "code",
      "source": [
        "expenses = [1138, 101, 12, 300, 2049]\n",
        "s=sorted(expenses) #expenses的值不會變\n",
        "print(s, expenses)"
      ],
      "metadata": {
        "colab": {
          "base_uri": "https://localhost:8080/"
        },
        "id": "zZwJIZLLrpxO",
        "outputId": "1ac1c91e-6d72-4c47-9a81-400c942fbe49"
      },
      "execution_count": 11,
      "outputs": [
        {
          "output_type": "stream",
          "name": "stdout",
          "text": [
            "[12, 101, 300, 1138, 2049] [1138, 101, 12, 300, 2049]\n"
          ]
        }
      ]
    },
    {
      "cell_type": "code",
      "source": [
        ""
      ],
      "metadata": {
        "id": "b_OCFiJDr2bW"
      },
      "execution_count": null,
      "outputs": []
    }
  ]
}