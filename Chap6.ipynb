{
  "nbformat": 4,
  "nbformat_minor": 0,
  "metadata": {
    "colab": {
      "name": "Chap6.ipynb",
      "provenance": [],
      "authorship_tag": "ABX9TyOB/XeoT8kCMrIu14jTZYrp",
      "include_colab_link": true
    },
    "kernelspec": {
      "name": "python3",
      "display_name": "Python 3"
    },
    "language_info": {
      "name": "python"
    }
  },
  "cells": [
    {
      "cell_type": "markdown",
      "metadata": {
        "id": "view-in-github",
        "colab_type": "text"
      },
      "source": [
        "<a href=\"https://colab.research.google.com/github/INFlive/Python/blob/main/Chap6.ipynb\" target=\"_parent\"><img src=\"https://colab.research.google.com/assets/colab-badge.svg\" alt=\"Open In Colab\"/></a>"
      ]
    },
    {
      "cell_type": "code",
      "execution_count": 1,
      "metadata": {
        "colab": {
          "base_uri": "https://localhost:8080/"
        },
        "id": "IrbA3a5Mul7x",
        "outputId": "711a79fc-6c2e-4cc7-9d0e-0214988793dd"
      },
      "outputs": [
        {
          "output_type": "stream",
          "name": "stdout",
          "text": [
            "/content\n"
          ]
        }
      ],
      "source": [
        "import os\n",
        "print(os.getcwd()) #顯示目前所在的工作目錄"
      ]
    },
    {
      "cell_type": "code",
      "source": [
        "#顯示目錄下的檔案\n",
        "os.listdir(\".\")"
      ],
      "metadata": {
        "colab": {
          "base_uri": "https://localhost:8080/"
        },
        "id": "eV_4OXWourTY",
        "outputId": "303c2dfc-3141-4fcf-f230-87e0a4a10b75"
      },
      "execution_count": 2,
      "outputs": [
        {
          "output_type": "execute_result",
          "data": {
            "text/plain": [
              "['.config', 'sample_data']"
            ]
          },
          "metadata": {},
          "execution_count": 2
        }
      ]
    },
    {
      "cell_type": "code",
      "source": [
        "#新增目錄\n",
        "os.makedirs(\"test\")\n",
        "os.listdir(\".\")"
      ],
      "metadata": {
        "colab": {
          "base_uri": "https://localhost:8080/"
        },
        "id": "QRrofwhiuwSf",
        "outputId": "f2a58470-b909-46d1-fe3d-384a5d3642cd"
      },
      "execution_count": 3,
      "outputs": [
        {
          "output_type": "execute_result",
          "data": {
            "text/plain": [
              "['.config', 'test', 'sample_data']"
            ]
          },
          "metadata": {},
          "execution_count": 3
        }
      ]
    },
    {
      "cell_type": "code",
      "source": [
        "#移除目錄\n",
        "os.rmdir(\"test\")\n",
        "os.listdir(\".\")"
      ],
      "metadata": {
        "colab": {
          "base_uri": "https://localhost:8080/"
        },
        "id": "8IJftRNIuy5X",
        "outputId": "c7551de4-59c3-44bf-dc0e-88cbde455515"
      },
      "execution_count": 4,
      "outputs": [
        {
          "output_type": "execute_result",
          "data": {
            "text/plain": [
              "['.config', 'sample_data']"
            ]
          },
          "metadata": {},
          "execution_count": 4
        }
      ]
    },
    {
      "cell_type": "code",
      "source": [
        "a=open(\"a.txt\",\"w\") #新增檔案\n",
        "a.write(\"This is a test1\")\n",
        "a.write(\"This is a test2\\n\")\n",
        "a.write(\"This is a test3\\n\")\n",
        "a.close() #關閉檔案"
      ],
      "metadata": {
        "id": "PscXdXocu16v"
      },
      "execution_count": 5,
      "outputs": []
    },
    {
      "cell_type": "code",
      "source": [
        "os.path.isfile(\"a.txt\")"
      ],
      "metadata": {
        "colab": {
          "base_uri": "https://localhost:8080/"
        },
        "id": "l2YWLIp-u4m2",
        "outputId": "0224f6b9-cfe2-4905-a3b0-d524ab9168f8"
      },
      "execution_count": 6,
      "outputs": [
        {
          "output_type": "execute_result",
          "data": {
            "text/plain": [
              "True"
            ]
          },
          "metadata": {},
          "execution_count": 6
        }
      ]
    },
    {
      "cell_type": "code",
      "source": [
        "a=open(\"a.txt\",\"r\")\n",
        "print(a.readline())\n",
        "print(a.readline())\n",
        "print(a.readline()) #多餘的命令，檔案只有2行\n",
        "a.close()"
      ],
      "metadata": {
        "colab": {
          "base_uri": "https://localhost:8080/"
        },
        "id": "K0SJGyo1u6R_",
        "outputId": "69c5accf-9d1c-4662-e33f-1ce1c24e027f"
      },
      "execution_count": 7,
      "outputs": [
        {
          "output_type": "stream",
          "name": "stdout",
          "text": [
            "This is a test1This is a test2\n",
            "\n",
            "This is a test3\n",
            "\n",
            "\n"
          ]
        }
      ]
    },
    {
      "cell_type": "code",
      "source": [
        "a=open(\"a.txt\",\"r\")\n",
        "print(a.readlines())  #一次讀取多行，與a.read()命令相同\n",
        "a.close()"
      ],
      "metadata": {
        "colab": {
          "base_uri": "https://localhost:8080/"
        },
        "id": "9Gm3B8_2u73V",
        "outputId": "819b7c8f-ea40-4cee-fe2e-fac7c6882f86"
      },
      "execution_count": 8,
      "outputs": [
        {
          "output_type": "stream",
          "name": "stdout",
          "text": [
            "['This is a test1This is a test2\\n', 'This is a test3\\n']\n"
          ]
        }
      ]
    },
    {
      "cell_type": "code",
      "source": [
        "#加上檔案是否存在的判斷\n",
        "if os.path.isfile(\"a.txt\"):\n",
        "    a=open(\"a.txt\",\"r\")\n",
        "    print(a.readlines())\n",
        "    a.close()\n",
        "else:\n",
        "    print(\"檔案不存在\")"
      ],
      "metadata": {
        "colab": {
          "base_uri": "https://localhost:8080/"
        },
        "id": "E1SqliFWu9fm",
        "outputId": "cc8aa39a-98b5-46aa-84f3-a6d888b744f9"
      },
      "execution_count": 9,
      "outputs": [
        {
          "output_type": "stream",
          "name": "stdout",
          "text": [
            "['This is a test1This is a test2\\n', 'This is a test3\\n']\n"
          ]
        }
      ]
    },
    {
      "cell_type": "code",
      "source": [
        "if os.path.isfile(\"a.txt\"):\n",
        "    a=open(\"a.txt\",\"r\")\n",
        "    for line in a:\n",
        "        fields=line.split(\" \") #以空白為切割欄位\n",
        "        print(fields)\n",
        "    a.close()\n",
        "else:\n",
        "    print(\"檔案不存在\")"
      ],
      "metadata": {
        "colab": {
          "base_uri": "https://localhost:8080/"
        },
        "id": "vd_9VbwWu_cn",
        "outputId": "579857a0-1745-4db0-e40b-37710dda9bc1"
      },
      "execution_count": 10,
      "outputs": [
        {
          "output_type": "stream",
          "name": "stdout",
          "text": [
            "['This', 'is', 'a', 'test1This', 'is', 'a', 'test2\\n']\n",
            "['This', 'is', 'a', 'test3\\n']\n"
          ]
        }
      ]
    },
    {
      "cell_type": "code",
      "source": [
        "a=open(\"a.txt\", \"a\")\n",
        "a.write(\"This is test4\\n\")\n",
        "a.close()"
      ],
      "metadata": {
        "id": "No4yxp_RvBEO"
      },
      "execution_count": 11,
      "outputs": []
    },
    {
      "cell_type": "code",
      "source": [
        "a=open(\"a.txt\",\"r\")\n",
        "print(a.readlines())\n",
        "a.close()"
      ],
      "metadata": {
        "colab": {
          "base_uri": "https://localhost:8080/"
        },
        "id": "3fkit8vBvCif",
        "outputId": "c80dbb7b-fc9f-45df-b280-9b67a4aac44a"
      },
      "execution_count": 12,
      "outputs": [
        {
          "output_type": "stream",
          "name": "stdout",
          "text": [
            "['This is a test1This is a test2\\n', 'This is a test3\\n', 'This is test4\\n']\n"
          ]
        }
      ]
    },
    {
      "cell_type": "code",
      "source": [
        "a=open(\"a.txt\",\"r+\")\n",
        "a.write(\"This is a test5\\n\")\n",
        "a.close()"
      ],
      "metadata": {
        "id": "rdo5Wac9vEYY"
      },
      "execution_count": 13,
      "outputs": []
    },
    {
      "cell_type": "code",
      "source": [
        "a=open(\"a.txt\",\"r\")\n",
        "print(a.readlines())\n",
        "a.close()"
      ],
      "metadata": {
        "colab": {
          "base_uri": "https://localhost:8080/"
        },
        "id": "73e10UC1vG8_",
        "outputId": "ad958434-0213-4a68-a0ad-415f40255f56"
      },
      "execution_count": 14,
      "outputs": [
        {
          "output_type": "stream",
          "name": "stdout",
          "text": [
            "['This is a test5\\n', 'his is a test2\\n', 'This is a test3\\n', 'This is test4\\n']\n"
          ]
        }
      ]
    },
    {
      "cell_type": "code",
      "source": [
        "if os.path.isfile(\"a.txt\"):\n",
        "    os.remove(\"a.txt\")\n",
        "    print(\"檔案刪除成功\")\n",
        "else:\n",
        "    print(\"找不到檔案\")\n",
        "print(os.path.isfile(\"a.txt\"))"
      ],
      "metadata": {
        "colab": {
          "base_uri": "https://localhost:8080/"
        },
        "id": "Hi8CiSDcvIYo",
        "outputId": "8ba131aa-92b3-4d4a-cd4c-8fa94a9daca1"
      },
      "execution_count": 15,
      "outputs": [
        {
          "output_type": "stream",
          "name": "stdout",
          "text": [
            "檔案刪除成功\n",
            "False\n"
          ]
        }
      ]
    }
  ]
}