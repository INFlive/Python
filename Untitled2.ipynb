{
  "nbformat": 4,
  "nbformat_minor": 0,
  "metadata": {
    "colab": {
      "name": "Untitled2.ipynb",
      "provenance": [],
      "collapsed_sections": [],
      "authorship_tag": "ABX9TyOhRqXRiI6R+g5gACl3c/BA",
      "include_colab_link": true
    },
    "kernelspec": {
      "name": "python3",
      "display_name": "Python 3"
    },
    "language_info": {
      "name": "python"
    }
  },
  "cells": [
    {
      "cell_type": "markdown",
      "metadata": {
        "id": "view-in-github",
        "colab_type": "text"
      },
      "source": [
        "<a href=\"https://colab.research.google.com/github/INFlive/Python/blob/main/Untitled2.ipynb\" target=\"_parent\"><img src=\"https://colab.research.google.com/assets/colab-badge.svg\" alt=\"Open In Colab\"/></a>"
      ]
    },
    {
      "cell_type": "code",
      "source": [
        "print(\"This\"+\"is\"+\"a\"+\"book\")\n",
        "print(\"This\",\"is\",\"a\",\"book\")\n",
        "print(\"This\")\n",
        "print(\"is\")\n",
        "print(\"a\")\n",
        "print(\"book\")"
      ],
      "metadata": {
        "colab": {
          "base_uri": "https://localhost:8080/"
        },
        "id": "ZYy2-Q_vLwi7",
        "outputId": "155420b9-8da6-46cf-f429-7105a6c39f31"
      },
      "execution_count": null,
      "outputs": [
        {
          "output_type": "stream",
          "name": "stdout",
          "text": [
            "Thisisabook\n",
            "This is a book\n",
            "This\n",
            "is\n",
            "a\n",
            "book\n"
          ]
        }
      ]
    },
    {
      "cell_type": "code",
      "source": [
        "print(\"This {} a book\",format(\"is\"))\n",
        "x=123456.7819\n",
        "print(\"{:.2f}\".format(x))\n",
        "print(\"{:,.2f}\".format(x))"
      ],
      "metadata": {
        "colab": {
          "base_uri": "https://localhost:8080/"
        },
        "id": "AgcNIqsOMA7z",
        "outputId": "a5343682-3b7b-4923-e0ce-47e9b01cb188"
      },
      "execution_count": null,
      "outputs": [
        {
          "output_type": "stream",
          "name": "stdout",
          "text": [
            "This {} a book is\n",
            "123456.78\n",
            "123,456.78\n"
          ]
        }
      ]
    },
    {
      "cell_type": "code",
      "source": [
        "print(\"This %10s a book%-10s\" % (\"is\",\"!\"))\n",
        "print(\"%7.3f\"% (687.4333))"
      ],
      "metadata": {
        "colab": {
          "base_uri": "https://localhost:8080/"
        },
        "id": "HNOfEmCHOm1L",
        "outputId": "bc7bb3cd-4cd4-4a45-f367-bd7df5b6c2b2"
      },
      "execution_count": null,
      "outputs": [
        {
          "output_type": "stream",
          "name": "stdout",
          "text": [
            "This         is a book!         \n",
            "687.433\n"
          ]
        }
      ]
    },
    {
      "cell_type": "code",
      "source": [
        "a=3\n",
        "b=4\n",
        "if a>b :\n",
        "  print(\"a>b\")\n",
        "print(\"a\")\n",
        "print(\"a\")"
      ],
      "metadata": {
        "id": "hlVTi42NVw11",
        "colab": {
          "base_uri": "https://localhost:8080/"
        },
        "outputId": "9b749597-7fe2-40e2-c819-2dbf90f801e9"
      },
      "execution_count": null,
      "outputs": [
        {
          "output_type": "stream",
          "name": "stdout",
          "text": [
            "a\n"
          ]
        }
      ]
    },
    {
      "cell_type": "code",
      "source": [
        "a=3\n",
        "b=3\n",
        "if a>b :\n",
        "  print(\"a>b\")\n",
        "elif a==b:\n",
        "  print(\"a=b\")\n",
        "else:\n",
        "  print(\"b>a\")"
      ],
      "metadata": {
        "colab": {
          "base_uri": "https://localhost:8080/"
        },
        "id": "yw54no9YRXgh",
        "outputId": "7e4fed53-c684-483a-cb96-b955a448eddb"
      },
      "execution_count": null,
      "outputs": [
        {
          "output_type": "stream",
          "name": "stdout",
          "text": [
            "a=b\n"
          ]
        }
      ]
    },
    {
      "cell_type": "code",
      "source": [
        "a=eval(input(\"請輸入數字a:\"))\n",
        "b=eval(input(\"請輸入數字b\"))\n",
        "if a>b :\n",
        "  print(\"a>b\")\n",
        "elif a==b:\n",
        "  print(\"a=b\")\n",
        "else:\n",
        "  print(\"b>a\")"
      ],
      "metadata": {
        "colab": {
          "base_uri": "https://localhost:8080/"
        },
        "id": "rUn7QQifRm3Y",
        "outputId": "0c6fb1a3-289d-48a0-84df-92a00e6a3743"
      },
      "execution_count": null,
      "outputs": [
        {
          "output_type": "stream",
          "name": "stdout",
          "text": [
            "請輸入數字a:5*2\n",
            "請輸入數字b3*4\n",
            "b>a\n"
          ]
        }
      ]
    },
    {
      "cell_type": "code",
      "source": [
        "for i in range(10): #range(10): 0, 1, 2,...9\n",
        "  print(i)\n",
        "for i in range(0,10,1):\n",
        "  print(i)"
      ],
      "metadata": {
        "colab": {
          "base_uri": "https://localhost:8080/"
        },
        "id": "B2vL3SUPVZUW",
        "outputId": "b2ec20a4-2371-49ce-cf69-062c1ba0e8a2"
      },
      "execution_count": null,
      "outputs": [
        {
          "output_type": "stream",
          "name": "stdout",
          "text": [
            "0\n",
            "1\n",
            "2\n",
            "3\n",
            "4\n",
            "5\n",
            "6\n",
            "7\n",
            "8\n",
            "9\n",
            "0\n",
            "1\n",
            "2\n",
            "3\n",
            "4\n",
            "5\n",
            "6\n",
            "7\n",
            "8\n",
            "9\n"
          ]
        }
      ]
    },
    {
      "cell_type": "code",
      "source": [
        "sum=0\n",
        "for count in range(1,11,1):\n",
        "  sum=sum+count\n",
        "\n",
        "print(sum)"
      ],
      "metadata": {
        "colab": {
          "base_uri": "https://localhost:8080/"
        },
        "id": "vYWi5h1IcH_8",
        "outputId": "d9d7a81d-e4f2-4d6c-bcdb-c1ef33f056eb"
      },
      "execution_count": null,
      "outputs": [
        {
          "output_type": "stream",
          "name": "stdout",
          "text": [
            "55\n"
          ]
        }
      ]
    },
    {
      "cell_type": "code",
      "source": [
        "for s in [\"john\",\"mary\",\"tom\",\"simpson\"]:\n",
        "  print(s)"
      ],
      "metadata": {
        "colab": {
          "base_uri": "https://localhost:8080/"
        },
        "id": "EcEpayTHewRk",
        "outputId": "a8a5b07d-4db8-46a1-ec9a-4dc6d57e5e7d"
      },
      "execution_count": null,
      "outputs": [
        {
          "output_type": "stream",
          "name": "stdout",
          "text": [
            "john\n",
            "mary\n",
            "tom\n",
            "simpson\n"
          ]
        }
      ]
    },
    {
      "cell_type": "code",
      "source": [
        ""
      ],
      "metadata": {
        "id": "FHVZh49VhpZj"
      },
      "execution_count": null,
      "outputs": []
    }
  ]
}